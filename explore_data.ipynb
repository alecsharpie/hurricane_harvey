{
 "cells": [
  {
   "cell_type": "code",
   "execution_count": 1,
   "id": "c9209869",
   "metadata": {},
   "outputs": [],
   "source": [
    "import numpy as np\n",
    "import pandas as pd\n",
    "import matplotlib.pyplot as plt"
   ]
  },
  {
   "cell_type": "code",
   "execution_count": 21,
   "id": "93815aec",
   "metadata": {},
   "outputs": [],
   "source": [
    "from tensorflow.keras.utils import to_categorical\n",
    "from tqdm import tqdm\n",
    "import numpy as np\n",
    "import os\n",
    "from PIL import Image\n",
    "\n",
    "def load_hurricane_data(loading_method):\n",
    "    if loading_method == 'drive':\n",
    "        data_path = '/content/drive/My Drive/Deep_learning_data/flowers'\n",
    "    elif loading_method == 'local':\n",
    "        data_path = 'raw_data/train_another'\n",
    "    classes = {'no_damage':0, 'damage':1}\n",
    "    imgs = []\n",
    "    labels = []\n",
    "    for (cl, i) in classes.items():\n",
    "        images_path = [elt for elt in os.listdir(os.path.join(data_path, cl)) if elt.find('.jpeg')>0]\n",
    "        for img in tqdm(images_path[:300]):\n",
    "            path = os.path.join(data_path, cl, img)\n",
    "            if os.path.exists(path):\n",
    "                image = Image.open(path)\n",
    "                image = image.resize((128, 128))\n",
    "                imgs.append(np.array(image))\n",
    "                labels.append(i)\n",
    "\n",
    "    X = np.array(imgs)\n",
    "    #num_classes = len(set(labels))\n",
    "    #print(X)\n",
    "    #print(num_classes)\n",
    "    #print(labels)\n",
    "    #print(len(labels))\n",
    "    #y = to_categorical(labels, num_classes)\n",
    "    y = np.array(labels)\n",
    "\n",
    "    # Finally we shuffle:\n",
    "    p = np.random.permutation(len(X))\n",
    "    X, y = X[p], y[p]\n",
    "\n",
    "    first_split = int(len(imgs) /6.)\n",
    "    second_split = first_split + int(len(imgs) * 0.2)\n",
    "    X_test, X_val, X_train = X[:first_split], X[first_split:second_split], X[second_split:]\n",
    "    y_test, y_val, y_train = y[:first_split], y[first_split:second_split], y[second_split:]\n",
    "    \n",
    "    return X_train, y_train, X_val, y_val, X_test, y_test"
   ]
  },
  {
   "cell_type": "code",
   "execution_count": 22,
   "id": "8470327f",
   "metadata": {},
   "outputs": [
    {
     "name": "stderr",
     "output_type": "stream",
     "text": [
      "100%|████████████████████████████████████████| 300/300 [00:00<00:00, 550.08it/s]\n",
      "100%|████████████████████████████████████████| 300/300 [00:00<00:00, 570.06it/s]\n"
     ]
    }
   ],
   "source": [
    "X_train, y_train, X_val, y_val, X_test, y_test = load_hurricane_data('local')"
   ]
  },
  {
   "cell_type": "code",
   "execution_count": 27,
   "id": "52688eb2",
   "metadata": {},
   "outputs": [],
   "source": [
    "X_train = X_train / 255\n",
    "X_val = X_val / 255\n",
    "X_test = X_test / 255"
   ]
  },
  {
   "cell_type": "code",
   "execution_count": 28,
   "id": "edfc3297",
   "metadata": {},
   "outputs": [
    {
     "name": "stdout",
     "output_type": "stream",
     "text": [
      "(380, 128, 128, 3) (120, 128, 128, 3) (100, 128, 128, 3)\n"
     ]
    }
   ],
   "source": [
    "print(X_train.shape, X_val.shape, X_test.shape)"
   ]
  },
  {
   "cell_type": "code",
   "execution_count": 29,
   "id": "50a75091",
   "metadata": {},
   "outputs": [],
   "source": [
    "from tensorflow.keras.layers.experimental.preprocessing import Rescaling\n",
    "from tensorflow.keras import models, layers"
   ]
  },
  {
   "cell_type": "code",
   "execution_count": 36,
   "id": "c8942131",
   "metadata": {},
   "outputs": [],
   "source": [
    "def model_init():\n",
    "    \n",
    "    model = models.Sequential()\n",
    "\n",
    "    model.add(Rescaling(1/255, input_shape = (128, 128, 3)))\n",
    "\n",
    "    model.add(layers.Conv2D(10, kernel_size = 8, activation = 'relu'))\n",
    "    model.add(layers.MaxPooling2D(4))\n",
    "\n",
    "    model.add(layers.Flatten())\n",
    "\n",
    "    model.add(layers.Dense(1, activation = 'sigmoid'))\n",
    "    \n",
    "    return model"
   ]
  },
  {
   "cell_type": "code",
   "execution_count": 38,
   "id": "01c0b880",
   "metadata": {},
   "outputs": [
    {
     "name": "stdout",
     "output_type": "stream",
     "text": [
      "Model: \"sequential_6\"\n",
      "_________________________________________________________________\n",
      "Layer (type)                 Output Shape              Param #   \n",
      "=================================================================\n",
      "rescaling_4 (Rescaling)      (None, 128, 128, 3)       0         \n",
      "_________________________________________________________________\n",
      "conv2d_3 (Conv2D)            (None, 121, 121, 10)      1930      \n",
      "_________________________________________________________________\n",
      "max_pooling2d_3 (MaxPooling2 (None, 30, 30, 10)        0         \n",
      "_________________________________________________________________\n",
      "flatten_2 (Flatten)          (None, 9000)              0         \n",
      "_________________________________________________________________\n",
      "dense_2 (Dense)              (None, 1)                 9001      \n",
      "=================================================================\n",
      "Total params: 10,931\n",
      "Trainable params: 10,931\n",
      "Non-trainable params: 0\n",
      "_________________________________________________________________\n"
     ]
    }
   ],
   "source": [
    "model = model_init()\n",
    "model.summary()"
   ]
  },
  {
   "cell_type": "code",
   "execution_count": 44,
   "id": "88b69ba0",
   "metadata": {},
   "outputs": [],
   "source": [
    "model.compile(loss = 'binary_crossentropy',\n",
    "              optimizer = 'adam',\n",
    "             metrics = ['accuracy'])"
   ]
  },
  {
   "cell_type": "code",
   "execution_count": 45,
   "id": "449e247f",
   "metadata": {},
   "outputs": [
    {
     "name": "stdout",
     "output_type": "stream",
     "text": [
      "Epoch 1/10\n",
      "12/12 [==============================] - 2s 163ms/step - loss: 0.6933 - accuracy: 0.5105\n",
      "Epoch 2/10\n",
      "12/12 [==============================] - 2s 172ms/step - loss: 0.6931 - accuracy: 0.5105\n",
      "Epoch 3/10\n",
      "12/12 [==============================] - 2s 156ms/step - loss: 0.6931 - accuracy: 0.5105\n",
      "Epoch 4/10\n",
      "12/12 [==============================] - 2s 161ms/step - loss: 0.6931 - accuracy: 0.5105\n",
      "Epoch 5/10\n",
      "12/12 [==============================] - 2s 161ms/step - loss: 0.6931 - accuracy: 0.5105\n",
      "Epoch 6/10\n",
      "12/12 [==============================] - 2s 164ms/step - loss: 0.6931 - accuracy: 0.5105\n",
      "Epoch 7/10\n",
      "12/12 [==============================] - 2s 203ms/step - loss: 0.6931 - accuracy: 0.5105\n",
      "Epoch 8/10\n",
      "12/12 [==============================] - 2s 193ms/step - loss: 0.6931 - accuracy: 0.5105\n",
      "Epoch 9/10\n",
      "12/12 [==============================] - 3s 241ms/step - loss: 0.6930 - accuracy: 0.5105\n",
      "Epoch 10/10\n",
      "12/12 [==============================] - 3s 235ms/step - loss: 0.6930 - accuracy: 0.5105\n"
     ]
    },
    {
     "data": {
      "text/plain": [
       "<tensorflow.python.keras.callbacks.History at 0x14dd0b580>"
      ]
     },
     "execution_count": 45,
     "metadata": {},
     "output_type": "execute_result"
    }
   ],
   "source": [
    "model.fit(X_train, \n",
    "          y_train,\n",
    "          batch_size = 32,\n",
    "          epochs = 10)"
   ]
  },
  {
   "cell_type": "code",
   "execution_count": 46,
   "id": "68274e86",
   "metadata": {},
   "outputs": [
    {
     "name": "stdout",
     "output_type": "stream",
     "text": [
      "4/4 [==============================] - 0s 20ms/step - loss: 0.6932 - accuracy: 0.5200\n"
     ]
    },
    {
     "data": {
      "text/plain": [
       "[0.693192720413208, 0.5199999809265137]"
      ]
     },
     "execution_count": 46,
     "metadata": {},
     "output_type": "execute_result"
    }
   ],
   "source": [
    "model.evaluate(X_test, y_test)"
   ]
  },
  {
   "cell_type": "code",
   "execution_count": null,
   "id": "3d55544c",
   "metadata": {},
   "outputs": [],
   "source": []
  }
 ],
 "metadata": {
  "kernelspec": {
   "display_name": "Python 3 (ipykernel)",
   "language": "python",
   "name": "python3"
  },
  "language_info": {
   "codemirror_mode": {
    "name": "ipython",
    "version": 3
   },
   "file_extension": ".py",
   "mimetype": "text/x-python",
   "name": "python",
   "nbconvert_exporter": "python",
   "pygments_lexer": "ipython3",
   "version": "3.8.6"
  }
 },
 "nbformat": 4,
 "nbformat_minor": 5
}
